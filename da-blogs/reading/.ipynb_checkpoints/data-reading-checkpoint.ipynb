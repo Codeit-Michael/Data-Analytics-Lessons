{
 "cells": [
  {
   "cell_type": "markdown",
   "metadata": {},
   "source": [
    "# Introduction to Pandas: Data Reading"
   ]
  },
  {
   "cell_type": "markdown",
   "metadata": {},
   "source": [
    "In this blog, we'll explore the process of reading and working with data using Pandas. No prior experience is necessary – we'll start from the basics and guide you through every step with simple explanations and practical examples.\n",
    "\n",
    "By the end of this journey, you'll have the skills to effortlessly import, explore, and make sense of data from various sources. So, let's dive in to it!\n",
    "\n",
    "Topics\n",
    "- A. Importing and Reading Data Files\n",
    "    - A.1. Reading Data\n",
    "    - A.2. Naming Columns\n",
    "    - A.3. Handling Missing Values\n",
    "    - A.4. Using Different Separators\n",
    "- B. Exploring the Data\n",
    "- C. Saving the Data"
   ]
  },
  {
   "cell_type": "markdown",
   "metadata": {},
   "source": [
    "## A. Importing and Reading Data Files"
   ]
  },
  {
   "cell_type": "markdown",
   "metadata": {},
   "source": [
    "Before we start, let's import our `Pandas` module first."
   ]
  },
  {
   "cell_type": "code",
   "execution_count": 1,
   "metadata": {},
   "outputs": [],
   "source": [
    "import pandas as pd"
   ]
  },
  {
   "cell_type": "markdown",
   "metadata": {},
   "source": [
    "### A.1. Reading Data"
   ]
  },
  {
   "cell_type": "markdown",
   "metadata": {},
   "source": [
    "Reading data is a fundamental step in data analysis, and Pandas simplifies this process by offering functions for importing data from various sources, including CSV, Excel, and databases. "
   ]
  },
  {
   "cell_type": "markdown",
   "metadata": {},
   "source": [
    "For this tutorial, I'm going to use a CSV file contaitning the following data. "
   ]
  },
  {
   "cell_type": "markdown",
   "metadata": {},
   "source": [
    "```csv\n",
    "John Doe,28,Male,45000,johndoe@example.com\n",
    "Jane Smith,35,Female,60000,janesmith@example.com\n",
    "Mike Johnson,22,Male,,mikejohnson@example.com\n",
    "Emily Davis,,Female,55000,emilydavis@example.com\n",
    "Chris Brown,40,,75000,chrisbrown@example.com\n",
    "Anna Lee,27,Female,62000,annalee@example.com\n",
    "David Clark,32,Male,68000,davidclark@example.com\n",
    "Sophia Kim,29,Female,51000,sophiakim@example.com\n",
    "Kevin Wilson,38,Male,,kevinwilson@example.com\n",
    "Linda Johnson,45,Female,72000,lindajohnson@example.com\n",
    "Robert Smith,33,Male,58000,robertsmith@example.com\n",
    "Mary Wilson,,Female,62000,marywilson@example.com\n",
    "William Davis,28,Male,48000,williamdavis@example.com\n",
    "Jennifer Lee,29,Female,53000,jenniferlee@example.com\n",
    "Michael Brown,36,Male,70000,michaelbrown@example.com\n",
    "Patricia Miller,31,Female,56000,patriciamiller@example.com\n",
    "James Taylor,42,Male,80000,jamestaylor@example.com\n",
    "Karen Anderson,34,Female,,karenanderson@example.com\n",
    "Joseph Martinez,26,Male,49000,josephmartinez@example.com\n",
    "```"
   ]
  },
  {
   "cell_type": "markdown",
   "metadata": {},
   "source": [
    "Like what I mentioned earlier, Pandas has built-in functions for reading different data files. Some of these are `read_csv`, `read_xlsx`, `read_html`, `read_json`, `read_sql`, etc."
   ]
  },
  {
   "cell_type": "code",
   "execution_count": 20,
   "metadata": {},
   "outputs": [
    {
     "data": {
      "text/html": [
       "<div>\n",
       "<style scoped>\n",
       "    .dataframe tbody tr th:only-of-type {\n",
       "        vertical-align: middle;\n",
       "    }\n",
       "\n",
       "    .dataframe tbody tr th {\n",
       "        vertical-align: top;\n",
       "    }\n",
       "\n",
       "    .dataframe thead th {\n",
       "        text-align: right;\n",
       "    }\n",
       "</style>\n",
       "<table border=\"1\" class=\"dataframe\">\n",
       "  <thead>\n",
       "    <tr style=\"text-align: right;\">\n",
       "      <th></th>\n",
       "      <th>John Doe</th>\n",
       "      <th>28</th>\n",
       "      <th>Male</th>\n",
       "      <th>45000</th>\n",
       "      <th>johndoe@example.com</th>\n",
       "    </tr>\n",
       "  </thead>\n",
       "  <tbody>\n",
       "    <tr>\n",
       "      <th>0</th>\n",
       "      <td>Jane Smith</td>\n",
       "      <td>35.0</td>\n",
       "      <td>Female</td>\n",
       "      <td>60000</td>\n",
       "      <td>janesmith@example.com</td>\n",
       "    </tr>\n",
       "    <tr>\n",
       "      <th>1</th>\n",
       "      <td>Mike Johnson</td>\n",
       "      <td>22.0</td>\n",
       "      <td>Male</td>\n",
       "      <td>?</td>\n",
       "      <td>mikejohnson@example.com</td>\n",
       "    </tr>\n",
       "    <tr>\n",
       "      <th>2</th>\n",
       "      <td>Emily Davis</td>\n",
       "      <td>NaN</td>\n",
       "      <td>Female</td>\n",
       "      <td>55000</td>\n",
       "      <td>emilydavis@example.com</td>\n",
       "    </tr>\n",
       "    <tr>\n",
       "      <th>3</th>\n",
       "      <td>Chris Brown</td>\n",
       "      <td>40.0</td>\n",
       "      <td>NaN</td>\n",
       "      <td>75000</td>\n",
       "      <td>chrisbrown@example.com</td>\n",
       "    </tr>\n",
       "    <tr>\n",
       "      <th>4</th>\n",
       "      <td>Anna Lee</td>\n",
       "      <td>27.0</td>\n",
       "      <td>Female</td>\n",
       "      <td>62000</td>\n",
       "      <td>annalee@example.com</td>\n",
       "    </tr>\n",
       "    <tr>\n",
       "      <th>5</th>\n",
       "      <td>David Clark</td>\n",
       "      <td>32.0</td>\n",
       "      <td>Male</td>\n",
       "      <td>68000</td>\n",
       "      <td>davidclark@example.com</td>\n",
       "    </tr>\n",
       "    <tr>\n",
       "      <th>6</th>\n",
       "      <td>Sophia Kim</td>\n",
       "      <td>29.0</td>\n",
       "      <td>Female</td>\n",
       "      <td>51000</td>\n",
       "      <td>sophiakim@example.com</td>\n",
       "    </tr>\n",
       "    <tr>\n",
       "      <th>7</th>\n",
       "      <td>Kevin Wilson</td>\n",
       "      <td>38.0</td>\n",
       "      <td>Male</td>\n",
       "      <td>_</td>\n",
       "      <td>kevinwilson@example.com</td>\n",
       "    </tr>\n",
       "    <tr>\n",
       "      <th>8</th>\n",
       "      <td>Linda Johnson</td>\n",
       "      <td>45.0</td>\n",
       "      <td>Female</td>\n",
       "      <td>72000</td>\n",
       "      <td>lindajohnson@example.com</td>\n",
       "    </tr>\n",
       "    <tr>\n",
       "      <th>9</th>\n",
       "      <td>Robert Smith</td>\n",
       "      <td>33.0</td>\n",
       "      <td>Male</td>\n",
       "      <td>58000</td>\n",
       "      <td>robertsmith@example.com</td>\n",
       "    </tr>\n",
       "    <tr>\n",
       "      <th>10</th>\n",
       "      <td>Mary Wilson</td>\n",
       "      <td>NaN</td>\n",
       "      <td>Female</td>\n",
       "      <td>62000</td>\n",
       "      <td>marywilson@example.com</td>\n",
       "    </tr>\n",
       "    <tr>\n",
       "      <th>11</th>\n",
       "      <td>William Davis</td>\n",
       "      <td>28.0</td>\n",
       "      <td>Male</td>\n",
       "      <td>48000</td>\n",
       "      <td>williamdavis@example.com</td>\n",
       "    </tr>\n",
       "    <tr>\n",
       "      <th>12</th>\n",
       "      <td>Jennifer Lee</td>\n",
       "      <td>29.0</td>\n",
       "      <td>Female</td>\n",
       "      <td>53000</td>\n",
       "      <td>jenniferlee@example.com</td>\n",
       "    </tr>\n",
       "    <tr>\n",
       "      <th>13</th>\n",
       "      <td>Michael Brown</td>\n",
       "      <td>36.0</td>\n",
       "      <td>Male</td>\n",
       "      <td>70000</td>\n",
       "      <td>michaelbrown@example.com</td>\n",
       "    </tr>\n",
       "    <tr>\n",
       "      <th>14</th>\n",
       "      <td>Patricia Miller</td>\n",
       "      <td>31.0</td>\n",
       "      <td>Female</td>\n",
       "      <td>56000</td>\n",
       "      <td>patriciamiller@example.com</td>\n",
       "    </tr>\n",
       "    <tr>\n",
       "      <th>15</th>\n",
       "      <td>James Taylor</td>\n",
       "      <td>42.0</td>\n",
       "      <td>Male</td>\n",
       "      <td>80000</td>\n",
       "      <td>jamestaylor@example.com</td>\n",
       "    </tr>\n",
       "    <tr>\n",
       "      <th>16</th>\n",
       "      <td>Karen Anderson</td>\n",
       "      <td>34.0</td>\n",
       "      <td>Female</td>\n",
       "      <td>--</td>\n",
       "      <td>karenanderson@example.com</td>\n",
       "    </tr>\n",
       "    <tr>\n",
       "      <th>17</th>\n",
       "      <td>Joseph Martinez</td>\n",
       "      <td>26.0</td>\n",
       "      <td>Male</td>\n",
       "      <td>49000</td>\n",
       "      <td>josephmartinez@example.com</td>\n",
       "    </tr>\n",
       "  </tbody>\n",
       "</table>\n",
       "</div>"
      ],
      "text/plain": [
       "           John Doe    28    Male  45000         johndoe@example.com\n",
       "0        Jane Smith  35.0  Female  60000       janesmith@example.com\n",
       "1      Mike Johnson  22.0    Male      ?     mikejohnson@example.com\n",
       "2       Emily Davis   NaN  Female  55000      emilydavis@example.com\n",
       "3       Chris Brown  40.0     NaN  75000      chrisbrown@example.com\n",
       "4          Anna Lee  27.0  Female  62000         annalee@example.com\n",
       "5       David Clark  32.0    Male  68000      davidclark@example.com\n",
       "6        Sophia Kim  29.0  Female  51000       sophiakim@example.com\n",
       "7      Kevin Wilson  38.0    Male      _     kevinwilson@example.com\n",
       "8     Linda Johnson  45.0  Female  72000    lindajohnson@example.com\n",
       "9      Robert Smith  33.0    Male  58000     robertsmith@example.com\n",
       "10      Mary Wilson   NaN  Female  62000      marywilson@example.com\n",
       "11    William Davis  28.0    Male  48000    williamdavis@example.com\n",
       "12     Jennifer Lee  29.0  Female  53000     jenniferlee@example.com\n",
       "13    Michael Brown  36.0    Male  70000    michaelbrown@example.com\n",
       "14  Patricia Miller  31.0  Female  56000  patriciamiller@example.com\n",
       "15     James Taylor  42.0    Male  80000     jamestaylor@example.com\n",
       "16   Karen Anderson  34.0  Female     --   karenanderson@example.com\n",
       "17  Joseph Martinez  26.0    Male  49000  josephmartinez@example.com"
      ]
     },
     "execution_count": 20,
     "metadata": {},
     "output_type": "execute_result"
    }
   ],
   "source": [
    "# filename\n",
    "csv_url = \"data.csv\"\n",
    "\n",
    "# reading csv files\n",
    "df = pd.read_csv(csv_url)\n",
    "\n",
    "df"
   ]
  },
  {
   "cell_type": "markdown",
   "metadata": {},
   "source": [
    "By calling the `df` variable, we're able to see what the data from our source file."
   ]
  },
  {
   "cell_type": "markdown",
   "metadata": {},
   "source": [
    "### A.2. Naming Columns \n",
    "As you notice if we call our data table, it sets the first row of text as its column-name/header by default. But in our CSV file, we don't have a header for each column so it set the first row of data as the header. To prevent it from doing so, we can use the `header` argument and set it to `None`."
   ]
  },
  {
   "cell_type": "code",
   "execution_count": 21,
   "metadata": {},
   "outputs": [
    {
     "data": {
      "text/html": [
       "<div>\n",
       "<style scoped>\n",
       "    .dataframe tbody tr th:only-of-type {\n",
       "        vertical-align: middle;\n",
       "    }\n",
       "\n",
       "    .dataframe tbody tr th {\n",
       "        vertical-align: top;\n",
       "    }\n",
       "\n",
       "    .dataframe thead th {\n",
       "        text-align: right;\n",
       "    }\n",
       "</style>\n",
       "<table border=\"1\" class=\"dataframe\">\n",
       "  <thead>\n",
       "    <tr style=\"text-align: right;\">\n",
       "      <th></th>\n",
       "      <th>0</th>\n",
       "      <th>1</th>\n",
       "      <th>2</th>\n",
       "      <th>3</th>\n",
       "      <th>4</th>\n",
       "    </tr>\n",
       "  </thead>\n",
       "  <tbody>\n",
       "    <tr>\n",
       "      <th>0</th>\n",
       "      <td>John Doe</td>\n",
       "      <td>28.0</td>\n",
       "      <td>Male</td>\n",
       "      <td>45000</td>\n",
       "      <td>johndoe@example.com</td>\n",
       "    </tr>\n",
       "    <tr>\n",
       "      <th>1</th>\n",
       "      <td>Jane Smith</td>\n",
       "      <td>35.0</td>\n",
       "      <td>Female</td>\n",
       "      <td>60000</td>\n",
       "      <td>janesmith@example.com</td>\n",
       "    </tr>\n",
       "    <tr>\n",
       "      <th>2</th>\n",
       "      <td>Mike Johnson</td>\n",
       "      <td>22.0</td>\n",
       "      <td>Male</td>\n",
       "      <td>?</td>\n",
       "      <td>mikejohnson@example.com</td>\n",
       "    </tr>\n",
       "    <tr>\n",
       "      <th>3</th>\n",
       "      <td>Emily Davis</td>\n",
       "      <td>NaN</td>\n",
       "      <td>Female</td>\n",
       "      <td>55000</td>\n",
       "      <td>emilydavis@example.com</td>\n",
       "    </tr>\n",
       "    <tr>\n",
       "      <th>4</th>\n",
       "      <td>Chris Brown</td>\n",
       "      <td>40.0</td>\n",
       "      <td>NaN</td>\n",
       "      <td>75000</td>\n",
       "      <td>chrisbrown@example.com</td>\n",
       "    </tr>\n",
       "  </tbody>\n",
       "</table>\n",
       "</div>"
      ],
      "text/plain": [
       "              0     1       2      3                        4\n",
       "0      John Doe  28.0    Male  45000      johndoe@example.com\n",
       "1    Jane Smith  35.0  Female  60000    janesmith@example.com\n",
       "2  Mike Johnson  22.0    Male      ?  mikejohnson@example.com\n",
       "3   Emily Davis   NaN  Female  55000   emilydavis@example.com\n",
       "4   Chris Brown  40.0     NaN  75000   chrisbrown@example.com"
      ]
     },
     "execution_count": 21,
     "metadata": {},
     "output_type": "execute_result"
    }
   ],
   "source": [
    "df = pd.read_csv(csv_url, header=None)\n",
    "df.head()"
   ]
  },
  {
   "cell_type": "markdown",
   "metadata": {},
   "source": [
    "By setting our `header` to `None`, we avoided setting the first row as header, and set our header to numbers instead. To name give each column a proper header name, we can use the `names` argument."
   ]
  },
  {
   "cell_type": "code",
   "execution_count": 22,
   "metadata": {},
   "outputs": [
    {
     "data": {
      "text/html": [
       "<div>\n",
       "<style scoped>\n",
       "    .dataframe tbody tr th:only-of-type {\n",
       "        vertical-align: middle;\n",
       "    }\n",
       "\n",
       "    .dataframe tbody tr th {\n",
       "        vertical-align: top;\n",
       "    }\n",
       "\n",
       "    .dataframe thead th {\n",
       "        text-align: right;\n",
       "    }\n",
       "</style>\n",
       "<table border=\"1\" class=\"dataframe\">\n",
       "  <thead>\n",
       "    <tr style=\"text-align: right;\">\n",
       "      <th></th>\n",
       "      <th>Name</th>\n",
       "      <th>Age</th>\n",
       "      <th>Sex</th>\n",
       "      <th>Income</th>\n",
       "      <th>Email</th>\n",
       "    </tr>\n",
       "  </thead>\n",
       "  <tbody>\n",
       "    <tr>\n",
       "      <th>0</th>\n",
       "      <td>John Doe</td>\n",
       "      <td>28.0</td>\n",
       "      <td>Male</td>\n",
       "      <td>45000</td>\n",
       "      <td>johndoe@example.com</td>\n",
       "    </tr>\n",
       "    <tr>\n",
       "      <th>1</th>\n",
       "      <td>Jane Smith</td>\n",
       "      <td>35.0</td>\n",
       "      <td>Female</td>\n",
       "      <td>60000</td>\n",
       "      <td>janesmith@example.com</td>\n",
       "    </tr>\n",
       "    <tr>\n",
       "      <th>2</th>\n",
       "      <td>Mike Johnson</td>\n",
       "      <td>22.0</td>\n",
       "      <td>Male</td>\n",
       "      <td>?</td>\n",
       "      <td>mikejohnson@example.com</td>\n",
       "    </tr>\n",
       "    <tr>\n",
       "      <th>3</th>\n",
       "      <td>Emily Davis</td>\n",
       "      <td>NaN</td>\n",
       "      <td>Female</td>\n",
       "      <td>55000</td>\n",
       "      <td>emilydavis@example.com</td>\n",
       "    </tr>\n",
       "    <tr>\n",
       "      <th>4</th>\n",
       "      <td>Chris Brown</td>\n",
       "      <td>40.0</td>\n",
       "      <td>NaN</td>\n",
       "      <td>75000</td>\n",
       "      <td>chrisbrown@example.com</td>\n",
       "    </tr>\n",
       "  </tbody>\n",
       "</table>\n",
       "</div>"
      ],
      "text/plain": [
       "           Name   Age     Sex Income                    Email\n",
       "0      John Doe  28.0    Male  45000      johndoe@example.com\n",
       "1    Jane Smith  35.0  Female  60000    janesmith@example.com\n",
       "2  Mike Johnson  22.0    Male      ?  mikejohnson@example.com\n",
       "3   Emily Davis   NaN  Female  55000   emilydavis@example.com\n",
       "4   Chris Brown  40.0     NaN  75000   chrisbrown@example.com"
      ]
     },
     "execution_count": 22,
     "metadata": {},
     "output_type": "execute_result"
    }
   ],
   "source": [
    "df = pd.read_csv(csv_url, header=None, names=[\"Name\", \"Age\", \"Sex\", \"Income\", \"Email\"])\n",
    "df.head()"
   ]
  },
  {
   "cell_type": "markdown",
   "metadata": {},
   "source": [
    "### A.3. Handling Missing Values\n",
    "If we look back to our table, especially in \"Income\" column, we will notice some of the missing data got different symbols."
   ]
  },
  {
   "cell_type": "code",
   "execution_count": 39,
   "metadata": {},
   "outputs": [
    {
     "data": {
      "text/plain": [
       "0     45000\n",
       "1     60000\n",
       "2         ?\n",
       "3     55000\n",
       "4     75000\n",
       "5     62000\n",
       "6     68000\n",
       "7     51000\n",
       "8         _\n",
       "9     72000\n",
       "10    58000\n",
       "11    62000\n",
       "12    48000\n",
       "13    53000\n",
       "14    70000\n",
       "15    56000\n",
       "16    80000\n",
       "17       --\n",
       "18    49000\n",
       "Name: Income, dtype: object"
      ]
     },
     "execution_count": 39,
     "metadata": {},
     "output_type": "execute_result"
    }
   ],
   "source": [
    "df[\"Income\"]"
   ]
  },
  {
   "cell_type": "markdown",
   "metadata": {},
   "source": [
    "You can convert these symbols to into `NaN` by mentioning it in the `na_values` argument."
   ]
  },
  {
   "cell_type": "code",
   "execution_count": 43,
   "metadata": {},
   "outputs": [
    {
     "data": {
      "text/plain": [
       "0     45000.0\n",
       "1     60000.0\n",
       "2         NaN\n",
       "3     55000.0\n",
       "4     75000.0\n",
       "5     62000.0\n",
       "6     68000.0\n",
       "7     51000.0\n",
       "8         NaN\n",
       "9     72000.0\n",
       "10    58000.0\n",
       "11    62000.0\n",
       "12    48000.0\n",
       "13    53000.0\n",
       "14    70000.0\n",
       "15    56000.0\n",
       "16    80000.0\n",
       "17        NaN\n",
       "18    49000.0\n",
       "Name: Income, dtype: float64"
      ]
     },
     "execution_count": 43,
     "metadata": {},
     "output_type": "execute_result"
    }
   ],
   "source": [
    "df = pd.read_csv(\n",
    "    csv_url, \n",
    "    header=None, \n",
    "    names=[\"Name\", \"Age\", \"Sex\", \"Income\", \"Email\"], \n",
    "    na_values=[\"?\", \"_\", \"--\"] # replaces the following character with NaN\n",
    ")\n",
    "df[\"Income\"]"
   ]
  },
  {
   "cell_type": "markdown",
   "metadata": {},
   "source": [
    "### A.4. Using Different Separators\n",
    "If you ever ran into a CSV with different separator (let's say your data file got `-` instead of `,`), you can use the `delimiter` or `sep` argument."
   ]
  },
  {
   "cell_type": "markdown",
   "metadata": {},
   "source": [
    "```python\n",
    "df = pd.read_csv(\n",
    "    csv_url, \n",
    "    header=None, \n",
    "    names=[\"Name\", \"Age\", \"Sex\", \"Income\", \"Email\"], \n",
    "    na_values=[\"?\", \"_\", \"--\"] # replaces the following character with NaN\n",
    "    sep=\"-\" # changes separator\n",
    ")\n",
    "```"
   ]
  },
  {
   "cell_type": "markdown",
   "metadata": {},
   "source": [
    "`sep` and `delimiter` works the same."
   ]
  },
  {
   "cell_type": "markdown",
   "metadata": {},
   "source": [
    "```python\n",
    "df = pd.read_csv(\n",
    "    csv_url, \n",
    "    header=None, \n",
    "    names=[\"Name\", \"Age\", \"Sex\", \"Income\", \"Email\"], \n",
    "    na_values=[\"?\", \"_\", \"--\"] # replaces the following character with NaN\n",
    "    delimiter=\"-\" # changes separator\n",
    ")\n",
    "```"
   ]
  },
  {
   "cell_type": "markdown",
   "metadata": {},
   "source": [
    "You can often use `delimiter` or `sep` interchangeably for simple cases where a single character separates values. However, if you need to handle more complex separation patterns or use regular expressions, then `sep` offers more flexibility. "
   ]
  },
  {
   "cell_type": "markdown",
   "metadata": {},
   "source": [
    "Here's an example `sep` using a regular expression to separate by either a comma or a semicolon:"
   ]
  },
  {
   "cell_type": "markdown",
   "metadata": {},
   "source": [
    "```python\n",
    "df = pd.read_csv('data.csv', sep='[,;]')\n",
    "```"
   ]
  },
  {
   "cell_type": "markdown",
   "metadata": {},
   "source": [
    "## B. Exploring the Data"
   ]
  },
  {
   "cell_type": "markdown",
   "metadata": {},
   "source": [
    "Pandas also has built-in methods for viewing the basic information about our data."
   ]
  },
  {
   "cell_type": "code",
   "execution_count": 23,
   "metadata": {},
   "outputs": [
    {
     "name": "stdout",
     "output_type": "stream",
     "text": [
      "<class 'pandas.core.frame.DataFrame'>\n",
      "RangeIndex: 19 entries, 0 to 18\n",
      "Data columns (total 5 columns):\n",
      " #   Column  Non-Null Count  Dtype  \n",
      "---  ------  --------------  -----  \n",
      " 0   Name    19 non-null     object \n",
      " 1   Age     17 non-null     float64\n",
      " 2   Sex     18 non-null     object \n",
      " 3   Income  19 non-null     object \n",
      " 4   Email   19 non-null     object \n",
      "dtypes: float64(1), object(4)\n",
      "memory usage: 520.0+ bytes\n"
     ]
    }
   ],
   "source": [
    "df.info()"
   ]
  },
  {
   "cell_type": "markdown",
   "metadata": {},
   "source": [
    "The `info()`, from the name itself, returns the basic information about the data table, data such as *Column*, *Dtype (data type)*, etc."
   ]
  },
  {
   "cell_type": "markdown",
   "metadata": {},
   "source": [
    "If you want to access the first or last few rows of the table, you can use `head()` and `tail()`."
   ]
  },
  {
   "cell_type": "code",
   "execution_count": 24,
   "metadata": {},
   "outputs": [
    {
     "data": {
      "text/html": [
       "<div>\n",
       "<style scoped>\n",
       "    .dataframe tbody tr th:only-of-type {\n",
       "        vertical-align: middle;\n",
       "    }\n",
       "\n",
       "    .dataframe tbody tr th {\n",
       "        vertical-align: top;\n",
       "    }\n",
       "\n",
       "    .dataframe thead th {\n",
       "        text-align: right;\n",
       "    }\n",
       "</style>\n",
       "<table border=\"1\" class=\"dataframe\">\n",
       "  <thead>\n",
       "    <tr style=\"text-align: right;\">\n",
       "      <th></th>\n",
       "      <th>Name</th>\n",
       "      <th>Age</th>\n",
       "      <th>Sex</th>\n",
       "      <th>Income</th>\n",
       "      <th>Email</th>\n",
       "    </tr>\n",
       "  </thead>\n",
       "  <tbody>\n",
       "    <tr>\n",
       "      <th>0</th>\n",
       "      <td>John Doe</td>\n",
       "      <td>28.0</td>\n",
       "      <td>Male</td>\n",
       "      <td>45000</td>\n",
       "      <td>johndoe@example.com</td>\n",
       "    </tr>\n",
       "    <tr>\n",
       "      <th>1</th>\n",
       "      <td>Jane Smith</td>\n",
       "      <td>35.0</td>\n",
       "      <td>Female</td>\n",
       "      <td>60000</td>\n",
       "      <td>janesmith@example.com</td>\n",
       "    </tr>\n",
       "    <tr>\n",
       "      <th>2</th>\n",
       "      <td>Mike Johnson</td>\n",
       "      <td>22.0</td>\n",
       "      <td>Male</td>\n",
       "      <td>?</td>\n",
       "      <td>mikejohnson@example.com</td>\n",
       "    </tr>\n",
       "    <tr>\n",
       "      <th>3</th>\n",
       "      <td>Emily Davis</td>\n",
       "      <td>NaN</td>\n",
       "      <td>Female</td>\n",
       "      <td>55000</td>\n",
       "      <td>emilydavis@example.com</td>\n",
       "    </tr>\n",
       "    <tr>\n",
       "      <th>4</th>\n",
       "      <td>Chris Brown</td>\n",
       "      <td>40.0</td>\n",
       "      <td>NaN</td>\n",
       "      <td>75000</td>\n",
       "      <td>chrisbrown@example.com</td>\n",
       "    </tr>\n",
       "  </tbody>\n",
       "</table>\n",
       "</div>"
      ],
      "text/plain": [
       "           Name   Age     Sex Income                    Email\n",
       "0      John Doe  28.0    Male  45000      johndoe@example.com\n",
       "1    Jane Smith  35.0  Female  60000    janesmith@example.com\n",
       "2  Mike Johnson  22.0    Male      ?  mikejohnson@example.com\n",
       "3   Emily Davis   NaN  Female  55000   emilydavis@example.com\n",
       "4   Chris Brown  40.0     NaN  75000   chrisbrown@example.com"
      ]
     },
     "execution_count": 24,
     "metadata": {},
     "output_type": "execute_result"
    }
   ],
   "source": [
    "# head()\n",
    "df.head()"
   ]
  },
  {
   "cell_type": "code",
   "execution_count": 25,
   "metadata": {},
   "outputs": [
    {
     "data": {
      "text/html": [
       "<div>\n",
       "<style scoped>\n",
       "    .dataframe tbody tr th:only-of-type {\n",
       "        vertical-align: middle;\n",
       "    }\n",
       "\n",
       "    .dataframe tbody tr th {\n",
       "        vertical-align: top;\n",
       "    }\n",
       "\n",
       "    .dataframe thead th {\n",
       "        text-align: right;\n",
       "    }\n",
       "</style>\n",
       "<table border=\"1\" class=\"dataframe\">\n",
       "  <thead>\n",
       "    <tr style=\"text-align: right;\">\n",
       "      <th></th>\n",
       "      <th>Name</th>\n",
       "      <th>Age</th>\n",
       "      <th>Sex</th>\n",
       "      <th>Income</th>\n",
       "      <th>Email</th>\n",
       "    </tr>\n",
       "  </thead>\n",
       "  <tbody>\n",
       "    <tr>\n",
       "      <th>14</th>\n",
       "      <td>Michael Brown</td>\n",
       "      <td>36.0</td>\n",
       "      <td>Male</td>\n",
       "      <td>70000</td>\n",
       "      <td>michaelbrown@example.com</td>\n",
       "    </tr>\n",
       "    <tr>\n",
       "      <th>15</th>\n",
       "      <td>Patricia Miller</td>\n",
       "      <td>31.0</td>\n",
       "      <td>Female</td>\n",
       "      <td>56000</td>\n",
       "      <td>patriciamiller@example.com</td>\n",
       "    </tr>\n",
       "    <tr>\n",
       "      <th>16</th>\n",
       "      <td>James Taylor</td>\n",
       "      <td>42.0</td>\n",
       "      <td>Male</td>\n",
       "      <td>80000</td>\n",
       "      <td>jamestaylor@example.com</td>\n",
       "    </tr>\n",
       "    <tr>\n",
       "      <th>17</th>\n",
       "      <td>Karen Anderson</td>\n",
       "      <td>34.0</td>\n",
       "      <td>Female</td>\n",
       "      <td>--</td>\n",
       "      <td>karenanderson@example.com</td>\n",
       "    </tr>\n",
       "    <tr>\n",
       "      <th>18</th>\n",
       "      <td>Joseph Martinez</td>\n",
       "      <td>26.0</td>\n",
       "      <td>Male</td>\n",
       "      <td>49000</td>\n",
       "      <td>josephmartinez@example.com</td>\n",
       "    </tr>\n",
       "  </tbody>\n",
       "</table>\n",
       "</div>"
      ],
      "text/plain": [
       "               Name   Age     Sex Income                       Email\n",
       "14    Michael Brown  36.0    Male  70000    michaelbrown@example.com\n",
       "15  Patricia Miller  31.0  Female  56000  patriciamiller@example.com\n",
       "16     James Taylor  42.0    Male  80000     jamestaylor@example.com\n",
       "17   Karen Anderson  34.0  Female     --   karenanderson@example.com\n",
       "18  Joseph Martinez  26.0    Male  49000  josephmartinez@example.com"
      ]
     },
     "execution_count": 25,
     "metadata": {},
     "output_type": "execute_result"
    }
   ],
   "source": [
    "# tail()\n",
    "df.tail()"
   ]
  },
  {
   "cell_type": "markdown",
   "metadata": {},
   "source": [
    "The `head()` returns the first rows of the data table while the `tail()` returns the last rows of the data table. They return 5 rows by default.\n",
    "\n",
    " You can pass a number on both functions to specify how many rows do you want to to be returned."
   ]
  },
  {
   "cell_type": "code",
   "execution_count": 26,
   "metadata": {},
   "outputs": [
    {
     "data": {
      "text/html": [
       "<div>\n",
       "<style scoped>\n",
       "    .dataframe tbody tr th:only-of-type {\n",
       "        vertical-align: middle;\n",
       "    }\n",
       "\n",
       "    .dataframe tbody tr th {\n",
       "        vertical-align: top;\n",
       "    }\n",
       "\n",
       "    .dataframe thead th {\n",
       "        text-align: right;\n",
       "    }\n",
       "</style>\n",
       "<table border=\"1\" class=\"dataframe\">\n",
       "  <thead>\n",
       "    <tr style=\"text-align: right;\">\n",
       "      <th></th>\n",
       "      <th>Name</th>\n",
       "      <th>Age</th>\n",
       "      <th>Sex</th>\n",
       "      <th>Income</th>\n",
       "      <th>Email</th>\n",
       "    </tr>\n",
       "  </thead>\n",
       "  <tbody>\n",
       "    <tr>\n",
       "      <th>0</th>\n",
       "      <td>John Doe</td>\n",
       "      <td>28.0</td>\n",
       "      <td>Male</td>\n",
       "      <td>45000</td>\n",
       "      <td>johndoe@example.com</td>\n",
       "    </tr>\n",
       "    <tr>\n",
       "      <th>1</th>\n",
       "      <td>Jane Smith</td>\n",
       "      <td>35.0</td>\n",
       "      <td>Female</td>\n",
       "      <td>60000</td>\n",
       "      <td>janesmith@example.com</td>\n",
       "    </tr>\n",
       "    <tr>\n",
       "      <th>2</th>\n",
       "      <td>Mike Johnson</td>\n",
       "      <td>22.0</td>\n",
       "      <td>Male</td>\n",
       "      <td>?</td>\n",
       "      <td>mikejohnson@example.com</td>\n",
       "    </tr>\n",
       "  </tbody>\n",
       "</table>\n",
       "</div>"
      ],
      "text/plain": [
       "           Name   Age     Sex Income                    Email\n",
       "0      John Doe  28.0    Male  45000      johndoe@example.com\n",
       "1    Jane Smith  35.0  Female  60000    janesmith@example.com\n",
       "2  Mike Johnson  22.0    Male      ?  mikejohnson@example.com"
      ]
     },
     "execution_count": 26,
     "metadata": {},
     "output_type": "execute_result"
    }
   ],
   "source": [
    "df.head(3)"
   ]
  },
  {
   "cell_type": "code",
   "execution_count": 27,
   "metadata": {},
   "outputs": [
    {
     "data": {
      "text/html": [
       "<div>\n",
       "<style scoped>\n",
       "    .dataframe tbody tr th:only-of-type {\n",
       "        vertical-align: middle;\n",
       "    }\n",
       "\n",
       "    .dataframe tbody tr th {\n",
       "        vertical-align: top;\n",
       "    }\n",
       "\n",
       "    .dataframe thead th {\n",
       "        text-align: right;\n",
       "    }\n",
       "</style>\n",
       "<table border=\"1\" class=\"dataframe\">\n",
       "  <thead>\n",
       "    <tr style=\"text-align: right;\">\n",
       "      <th></th>\n",
       "      <th>Name</th>\n",
       "      <th>Age</th>\n",
       "      <th>Sex</th>\n",
       "      <th>Income</th>\n",
       "      <th>Email</th>\n",
       "    </tr>\n",
       "  </thead>\n",
       "  <tbody>\n",
       "    <tr>\n",
       "      <th>12</th>\n",
       "      <td>William Davis</td>\n",
       "      <td>28.0</td>\n",
       "      <td>Male</td>\n",
       "      <td>48000</td>\n",
       "      <td>williamdavis@example.com</td>\n",
       "    </tr>\n",
       "    <tr>\n",
       "      <th>13</th>\n",
       "      <td>Jennifer Lee</td>\n",
       "      <td>29.0</td>\n",
       "      <td>Female</td>\n",
       "      <td>53000</td>\n",
       "      <td>jenniferlee@example.com</td>\n",
       "    </tr>\n",
       "    <tr>\n",
       "      <th>14</th>\n",
       "      <td>Michael Brown</td>\n",
       "      <td>36.0</td>\n",
       "      <td>Male</td>\n",
       "      <td>70000</td>\n",
       "      <td>michaelbrown@example.com</td>\n",
       "    </tr>\n",
       "    <tr>\n",
       "      <th>15</th>\n",
       "      <td>Patricia Miller</td>\n",
       "      <td>31.0</td>\n",
       "      <td>Female</td>\n",
       "      <td>56000</td>\n",
       "      <td>patriciamiller@example.com</td>\n",
       "    </tr>\n",
       "    <tr>\n",
       "      <th>16</th>\n",
       "      <td>James Taylor</td>\n",
       "      <td>42.0</td>\n",
       "      <td>Male</td>\n",
       "      <td>80000</td>\n",
       "      <td>jamestaylor@example.com</td>\n",
       "    </tr>\n",
       "    <tr>\n",
       "      <th>17</th>\n",
       "      <td>Karen Anderson</td>\n",
       "      <td>34.0</td>\n",
       "      <td>Female</td>\n",
       "      <td>--</td>\n",
       "      <td>karenanderson@example.com</td>\n",
       "    </tr>\n",
       "    <tr>\n",
       "      <th>18</th>\n",
       "      <td>Joseph Martinez</td>\n",
       "      <td>26.0</td>\n",
       "      <td>Male</td>\n",
       "      <td>49000</td>\n",
       "      <td>josephmartinez@example.com</td>\n",
       "    </tr>\n",
       "  </tbody>\n",
       "</table>\n",
       "</div>"
      ],
      "text/plain": [
       "               Name   Age     Sex Income                       Email\n",
       "12    William Davis  28.0    Male  48000    williamdavis@example.com\n",
       "13     Jennifer Lee  29.0  Female  53000     jenniferlee@example.com\n",
       "14    Michael Brown  36.0    Male  70000    michaelbrown@example.com\n",
       "15  Patricia Miller  31.0  Female  56000  patriciamiller@example.com\n",
       "16     James Taylor  42.0    Male  80000     jamestaylor@example.com\n",
       "17   Karen Anderson  34.0  Female     --   karenanderson@example.com\n",
       "18  Joseph Martinez  26.0    Male  49000  josephmartinez@example.com"
      ]
     },
     "execution_count": 27,
     "metadata": {},
     "output_type": "execute_result"
    }
   ],
   "source": [
    "df.tail(7)"
   ]
  },
  {
   "cell_type": "markdown",
   "metadata": {},
   "source": [
    "Here are some more functions that will return basic information:"
   ]
  },
  {
   "cell_type": "markdown",
   "metadata": {},
   "source": [
    "`df.describe()` - Generate summary statistics of numeric columns."
   ]
  },
  {
   "cell_type": "code",
   "execution_count": 36,
   "metadata": {},
   "outputs": [
    {
     "data": {
      "text/html": [
       "<div>\n",
       "<style scoped>\n",
       "    .dataframe tbody tr th:only-of-type {\n",
       "        vertical-align: middle;\n",
       "    }\n",
       "\n",
       "    .dataframe tbody tr th {\n",
       "        vertical-align: top;\n",
       "    }\n",
       "\n",
       "    .dataframe thead th {\n",
       "        text-align: right;\n",
       "    }\n",
       "</style>\n",
       "<table border=\"1\" class=\"dataframe\">\n",
       "  <thead>\n",
       "    <tr style=\"text-align: right;\">\n",
       "      <th></th>\n",
       "      <th>Age</th>\n",
       "    </tr>\n",
       "  </thead>\n",
       "  <tbody>\n",
       "    <tr>\n",
       "      <th>count</th>\n",
       "      <td>17.000000</td>\n",
       "    </tr>\n",
       "    <tr>\n",
       "      <th>mean</th>\n",
       "      <td>32.647059</td>\n",
       "    </tr>\n",
       "    <tr>\n",
       "      <th>std</th>\n",
       "      <td>6.143504</td>\n",
       "    </tr>\n",
       "    <tr>\n",
       "      <th>min</th>\n",
       "      <td>22.000000</td>\n",
       "    </tr>\n",
       "    <tr>\n",
       "      <th>25%</th>\n",
       "      <td>28.000000</td>\n",
       "    </tr>\n",
       "    <tr>\n",
       "      <th>50%</th>\n",
       "      <td>32.000000</td>\n",
       "    </tr>\n",
       "    <tr>\n",
       "      <th>75%</th>\n",
       "      <td>36.000000</td>\n",
       "    </tr>\n",
       "    <tr>\n",
       "      <th>max</th>\n",
       "      <td>45.000000</td>\n",
       "    </tr>\n",
       "  </tbody>\n",
       "</table>\n",
       "</div>"
      ],
      "text/plain": [
       "             Age\n",
       "count  17.000000\n",
       "mean   32.647059\n",
       "std     6.143504\n",
       "min    22.000000\n",
       "25%    28.000000\n",
       "50%    32.000000\n",
       "75%    36.000000\n",
       "max    45.000000"
      ]
     },
     "execution_count": 36,
     "metadata": {},
     "output_type": "execute_result"
    }
   ],
   "source": [
    "df.describe()"
   ]
  },
  {
   "cell_type": "markdown",
   "metadata": {},
   "source": [
    "`df.shape` - Get the dimensions of the DataFrame (rows, columns)."
   ]
  },
  {
   "cell_type": "code",
   "execution_count": 37,
   "metadata": {},
   "outputs": [
    {
     "data": {
      "text/plain": [
       "(19, 5)"
      ]
     },
     "execution_count": 37,
     "metadata": {},
     "output_type": "execute_result"
    }
   ],
   "source": [
    "df.shape"
   ]
  },
  {
   "cell_type": "markdown",
   "metadata": {},
   "source": [
    "`df['column_name']` - Access a specific column."
   ]
  },
  {
   "cell_type": "code",
   "execution_count": 38,
   "metadata": {},
   "outputs": [
    {
     "data": {
      "text/plain": [
       "0            johndoe@example.com\n",
       "1          janesmith@example.com\n",
       "2        mikejohnson@example.com\n",
       "3         emilydavis@example.com\n",
       "4         chrisbrown@example.com\n",
       "5            annalee@example.com\n",
       "6         davidclark@example.com\n",
       "7          sophiakim@example.com\n",
       "8        kevinwilson@example.com\n",
       "9       lindajohnson@example.com\n",
       "10       robertsmith@example.com\n",
       "11        marywilson@example.com\n",
       "12      williamdavis@example.com\n",
       "13       jenniferlee@example.com\n",
       "14      michaelbrown@example.com\n",
       "15    patriciamiller@example.com\n",
       "16       jamestaylor@example.com\n",
       "17     karenanderson@example.com\n",
       "18    josephmartinez@example.com\n",
       "Name: Email, dtype: object"
      ]
     },
     "execution_count": 38,
     "metadata": {},
     "output_type": "execute_result"
    }
   ],
   "source": [
    "df[\"Email\"]"
   ]
  },
  {
   "cell_type": "markdown",
   "metadata": {},
   "source": [
    "## C. Saving Data\n",
    "After processing your data, you can save it back to a file or a database using Pandas. For example, to save a DataFrame to a CSV file:\n",
    "```python\n",
    "df.to_csv('new_data.csv', index=False)\n",
    "```\n",
    "The `index=False` argument prevents Pandas from writing the row indices to the CSV file.\n",
    "\n",
    "Pandas provides a rich set of functions for data manipulation and analysis, making it a powerful tool for working with tabular data in Python."
   ]
  },
  {
   "cell_type": "markdown",
   "metadata": {},
   "source": [
    "In conclusion, data reading with Pandas is an essential and powerful skill for data analysts and scientists. This Python library simplifies the process of importing data from various sources, such as CSV files, Excel spreadsheets, and databases, and provides a user-friendly interface for data exploration. By mastering Pandas' data reading capabilities, professionals can efficiently load, manipulate, and analyze datasets, making it a cornerstone of effective data analysis workflows."
   ]
  }
 ],
 "metadata": {
  "kernelspec": {
   "display_name": "Python 3",
   "language": "python",
   "name": "python3"
  },
  "language_info": {
   "codemirror_mode": {
    "name": "ipython",
    "version": 3
   },
   "file_extension": ".py",
   "mimetype": "text/x-python",
   "name": "python",
   "nbconvert_exporter": "python",
   "pygments_lexer": "ipython3",
   "version": "3.8.2"
  }
 },
 "nbformat": 4,
 "nbformat_minor": 4
}
