{
 "cells": [
  {
   "cell_type": "markdown",
   "metadata": {},
   "source": [
    "## Jupyter Notebook Basics"
   ]
  },
  {
   "cell_type": "markdown",
   "metadata": {},
   "source": [
    "### Cells (line of codes)"
   ]
  },
  {
   "cell_type": "markdown",
   "metadata": {},
   "source": [
    "Interactive Python Notebook Quick Legends\n",
    "- Add cell above = `A`\n",
    "- Add cell below = `B`\n",
    "- Enter editing mode = `Enter`\n",
    "- Exit editing mode = `Esc`\n",
    "- Undo = `Z`\n",
    "- Copy = `C`\n",
    "- Cut = `X`\n",
    "- Paste = `P`\n",
    "- Markdown mode = `M`\n",
    "- Python mode = `Y`\n",
    "- Remove cell = `D` twice\n",
    "- Run current cell = `CTRL` + `Enter`\n",
    "- Run and create new cell = `Shift` + `Enter`, `Alt` + `Enter`\n",
    "- For other commands, you can search them in `Commands` at the side panel"
   ]
  },
  {
   "cell_type": "markdown",
   "metadata": {},
   "source": [
    "Each line/cell could be Markdown, Code, or Raw."
   ]
  },
  {
   "cell_type": "markdown",
   "metadata": {},
   "source": [
    "Each Code cell executed have assigned number, given after execution which value depends on the __*nth*__ time execution. Numbers cannot change even you change the orders of code lines."
   ]
  },
  {
   "cell_type": "code",
   "execution_count": 3,
   "metadata": {},
   "outputs": [
    {
     "data": {
      "text/plain": [
       "3"
      ]
     },
     "execution_count": 3,
     "metadata": {},
     "output_type": "execute_result"
    }
   ],
   "source": [
    "1 * 3"
   ]
  },
  {
   "cell_type": "code",
   "execution_count": 1,
   "metadata": {},
   "outputs": [
    {
     "name": "stdout",
     "output_type": "stream",
     "text": [
      "Hello World\n"
     ]
    }
   ],
   "source": [
    "print(\"Hello World\")"
   ]
  },
  {
   "cell_type": "markdown",
   "metadata": {},
   "source": [
    "Code line numbers will also change/update if you re-run them."
   ]
  },
  {
   "cell_type": "code",
   "execution_count": 4,
   "metadata": {},
   "outputs": [],
   "source": [
    "def hello_user():\n",
    "    user = input(\"Name: \")\n",
    "    print(f\"hello {user}!!\")"
   ]
  },
  {
   "cell_type": "code",
   "execution_count": 5,
   "metadata": {},
   "outputs": [
    {
     "name": "stdin",
     "output_type": "stream",
     "text": [
      "Name:  Michael\n"
     ]
    },
    {
     "name": "stdout",
     "output_type": "stream",
     "text": [
      "hello Michael!!\n"
     ]
    }
   ],
   "source": [
    "hello_user()"
   ]
  },
  {
   "cell_type": "code",
   "execution_count": 7,
   "metadata": {},
   "outputs": [],
   "source": [
    "import random\n",
    "choices = (\"rock\", \"paper\", \"scissor\")\n",
    "\n",
    "def bot_choice():\n",
    "    random_choice = random.choice(choices)\n",
    "    return random_choice"
   ]
  },
  {
   "cell_type": "code",
   "execution_count": 8,
   "metadata": {},
   "outputs": [
    {
     "data": {
      "text/plain": [
       "'paper'"
      ]
     },
     "execution_count": 8,
     "metadata": {},
     "output_type": "execute_result"
    }
   ],
   "source": [
    "bot_choice()"
   ]
  },
  {
   "cell_type": "markdown",
   "metadata": {},
   "source": [
    "### Importing/Exporting Data"
   ]
  },
  {
   "cell_type": "markdown",
   "metadata": {},
   "source": [
    "- Used modules are `matplotlib` and `pandas` for data visualization\n",
    "- In jupyter, we are not actually looking to the data here (especially if we use data from API). It's like accessing different data (from range of data needed) using their column name or name description.\n",
    "- You can also use `Bokeh` module which creates interactive graphs, unlike graphs from matplotlib and pandas which generates static graphs but can be saved as `png`.\n",
    "- You can use and work with Excel files, CSVs, XMLs, or data from API\n",
    "- You can export (save) data to different file types (especially file types mentioned above)\n",
    "![exporting files](img/importExport-files.jpg)"
   ]
  },
  {
   "cell_type": "markdown",
   "metadata": {},
   "source": [
    "#### Matplotlib & Pandas vs Bokeh\n",
    "- If you are working with analysing data from different time frame, Bokeh is useful since it allows you to zoom in or zoom out particular graph parts so you can study and speculate better.\n",
    "- If you are creating **pdf**s or heavy **html** files where static images of graphs are needed, matplotlib and pandas are better to be used."
   ]
  }
 ],
 "metadata": {
  "kernelspec": {
   "display_name": "Python 3",
   "language": "python",
   "name": "python3"
  },
  "language_info": {
   "codemirror_mode": {
    "name": "ipython",
    "version": 3
   },
   "file_extension": ".py",
   "mimetype": "text/x-python",
   "name": "python",
   "nbconvert_exporter": "python",
   "pygments_lexer": "ipython3",
   "version": "3.8.2"
  }
 },
 "nbformat": 4,
 "nbformat_minor": 4
}
