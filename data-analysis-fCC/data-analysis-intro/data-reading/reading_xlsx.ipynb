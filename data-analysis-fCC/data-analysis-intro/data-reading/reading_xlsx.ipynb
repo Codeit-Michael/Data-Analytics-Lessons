{
 "cells": [
  {
   "cell_type": "markdown",
   "metadata": {},
   "source": [
    "# Reading Excel"
   ]
  },
  {
   "cell_type": "markdown",
   "metadata": {},
   "source": [
    "Excel files are not text files like `txt`, `csv`, etc. If you casually open it, you will see random unreadable characters. Not so simple to parse, you might need to use external tools. Here are cheatsheet of some of the most used parameters when using `read_excel`.\n",
    "![read_excel params](../img/pd-read_excel.jpg)"
   ]
  },
  {
   "cell_type": "code",
   "execution_count": null,
   "metadata": {},
   "outputs": [],
   "source": []
  }
 ],
 "metadata": {
  "kernelspec": {
   "display_name": "Python 3",
   "language": "python",
   "name": "python3"
  },
  "language_info": {
   "codemirror_mode": {
    "name": "ipython",
    "version": 3
   },
   "file_extension": ".py",
   "mimetype": "text/x-python",
   "name": "python",
   "nbconvert_exporter": "python",
   "pygments_lexer": "ipython3",
   "version": "3.8.2"
  }
 },
 "nbformat": 4,
 "nbformat_minor": 4
}
