{
 "cells": [
  {
   "cell_type": "markdown",
   "metadata": {},
   "source": [
    "# NumPy "
   ]
  },
  {
   "cell_type": "markdown",
   "metadata": {},
   "source": [
    "A fundamental package good in scientific computing works."
   ]
  },
  {
   "cell_type": "markdown",
   "metadata": {},
   "source": [
    "## What is 3D Array to be specific? (Since you're struggling to comprehend this)\n",
    "A 3D array is a multi-dimensional with 3 axes(rows, columns, depth). To make it simple, think about this. A 1D array is a list, and a 2D array is a list of lists, then 3D array is a list of lists of lists, and so on.\n",
    "```python\n",
    "\n",
    "# 1D array - a list\n",
    "[1,2,3]\n",
    "\n",
    "# 2D array -  a list of lists\n",
    "[\n",
    "    [1,2,3],\n",
    "    [4,5,6]\n",
    "]\n",
    "\n",
    "# 3D array -  a list of lists of lists\n",
    "[\n",
    "    [\n",
    "        [1,2,3],\n",
    "        [4,5,6],\n",
    "    ],\n",
    "    [\n",
    "        [7,8,9],\n",
    "        [10,11,12]\n",
    "    ]\n",
    "]\n",
    "```"
   ]
  },
  {
   "cell_type": "markdown",
   "metadata": {},
   "source": [
    "A longer explanation:\n",
    "- A 1D array as a sequence of values (similar to a list).\n",
    "- A 2D array as a collection of rows, where each row is an array (similar to a list of lists).\n",
    "- A 3D array as a collection of matrices, where each matrix is a 2D array (similar to a list of lists of lists)."
   ]
  },
  {
   "cell_type": "markdown",
   "metadata": {},
   "source": [
    "Another example:\n",
    "![arrays](img/arrays.jpg)\n",
    "\n",
    "From the picture above, you can see a clear image representation of arrays with different dimensions. The 1D arrays has 4 columns/cells, the 2D array has 2 rows and 3 columns, and the 3D array has 4 matrices/groups, 3 rows, and 2 columns."
   ]
  },
  {
   "cell_type": "markdown",
   "metadata": {},
   "source": [
    "## NumPy Applications\n",
    "- Mathemathics (MATLAB Replacement)\n",
    "- Plotting (Matplotlib\n",
    "- Backend (Pandas, Connect 4, Digital Photography)\n",
    "- Machine Learning"
   ]
  },
  {
   "cell_type": "code",
   "execution_count": null,
   "metadata": {},
   "outputs": [],
   "source": []
  }
 ],
 "metadata": {
  "kernelspec": {
   "display_name": "Python 3",
   "language": "python",
   "name": "python3"
  },
  "language_info": {
   "codemirror_mode": {
    "name": "ipython",
    "version": 3
   },
   "file_extension": ".py",
   "mimetype": "text/x-python",
   "name": "python",
   "nbconvert_exporter": "python",
   "pygments_lexer": "ipython3",
   "version": "3.8.2"
  }
 },
 "nbformat": 4,
 "nbformat_minor": 4
}
